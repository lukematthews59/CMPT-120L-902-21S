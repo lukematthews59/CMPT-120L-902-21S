{
 "cells": [
  {
   "cell_type": "code",
   "execution_count": 8,
   "metadata": {},
   "outputs": [
    {
     "name": "stdout",
     "output_type": "stream",
     "text": [
      "Your new checking balance is: $2007.44 \n",
      "Your new savings balance is:  $1456.20\n"
     ]
    }
   ],
   "source": [
    "# We're looking to find out how much money we have after a day with friends on Saturday. \n",
    "# Our code does the trick but we learned about keeping out code DRY recently and want to make it more efficent by making it DRY.\n",
    "# I want you to accomplish this by making functions where you see repeated code. \n",
    "# Some things to note. When we have a positive number that gets split up and 85% goes into checking and 15% goes into savings. \n",
    "# All negative numbers gets taken out of the checking account.\n",
    "\n",
    "from typing import Tuple\n",
    "\n",
    "def add_money(money, savings, checking):\n",
    "    if(money < 0):\n",
    "        checking += money\n",
    "    else:\n",
    "        checking += money * 0.85\n",
    "        savings += money * 0.15\n",
    "    \n",
    "    return savings, checking\n",
    "\n",
    "def saturdays_bank_transactions(transations) -> Tuple[float, float]:\n",
    "    savings = 1096.25\n",
    "    checking = 1590.80\n",
    "    \n",
    "    for transaction in transations:\n",
    "        total_money = add_money(transaction, savings, checking)\n",
    "        savings = total_money[0]\n",
    "        checking = total_money[1]\n",
    "        \n",
    "    return checking, savings\n",
    "\n",
    "if __name__ == \"__main__\":\n",
    "    transations = [300.00, -50.00, -5.00, -20, 15.72, 2083.93, -1034.00, -420.00, -5.23, -15.93, -72.90]\n",
    "    new_balance = saturdays_bank_transactions(transations)\n",
    "    print(\"Your new checking balance is:\", '${:.2f}'.format(round(new_balance[0], 2)), \"\\nYour new savings balance is: \", '${:.2f}'.format(round(new_balance[1], 2)))"
   ]
  },
  {
   "cell_type": "code",
   "execution_count": null,
   "metadata": {},
   "outputs": [],
   "source": []
  }
 ],
 "metadata": {
  "kernelspec": {
   "display_name": "Python 3",
   "language": "python",
   "name": "python3"
  },
  "language_info": {
   "codemirror_mode": {
    "name": "ipython",
    "version": 3
   },
   "file_extension": ".py",
   "mimetype": "text/x-python",
   "name": "python",
   "nbconvert_exporter": "python",
   "pygments_lexer": "ipython3",
   "version": "3.8.5"
  }
 },
 "nbformat": 4,
 "nbformat_minor": 4
}
