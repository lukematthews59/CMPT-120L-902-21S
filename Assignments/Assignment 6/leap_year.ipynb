{
 "metadata": {
  "language_info": {
   "codemirror_mode": {
    "name": "ipython",
    "version": 3
   },
   "file_extension": ".py",
   "mimetype": "text/x-python",
   "name": "python",
   "nbconvert_exporter": "python",
   "pygments_lexer": "ipython3",
   "version": "3.9.2-final"
  },
  "orig_nbformat": 2,
  "kernelspec": {
   "name": "python392jvsc74a57bd0ac59ebe37160ed0dfa835113d9b8498d9f09ceb179beaac4002f036b9467c963",
   "display_name": "Python 3.9.2 64-bit"
  }
 },
 "nbformat": 4,
 "nbformat_minor": 2,
 "cells": [
  {
   "cell_type": "code",
   "execution_count": 2,
   "metadata": {},
   "outputs": [
    {
     "output_type": "stream",
     "name": "stdout",
     "text": [
      "['Is a leap year', 'Not a leap year', 'Is a leap year', 'Not a leap year', 'Not a leap year', 'Not a leap year']\n"
     ]
    }
   ],
   "source": [
    "def leap_year(year):\n",
    "    \"\"\"\n",
    "    - Add code in the defined function to figure out whether or not the given year is a leap year or not. \n",
    "    \n",
    "    - Every year that is exactly divisible by four is a leap year, except for years that are exactly divisible by 100, but these centurial years are leap years if they are exactly divisible by 400. For example, the years 1700, 1800, and 1900 are not leap years, but the years 1600 and 2000 are. - Wikipedia\n",
    "    \n",
    "    - Take in a parameter called year and return “Is a leap year” or “Not a leap year”\n",
    "    \"\"\"\n",
    "    # Write your code here.\n",
    "    if (year % 4) == 0:\n",
    "        if (year % 100) == 0:\n",
    "            if (year % 400) == 0:\n",
    "                return \"Is a leap year\"\n",
    "            else:\n",
    "                return \"Not a leap year\"\n",
    "        else:\n",
    "            return \"Is a leap year\"\n",
    "    else:\n",
    "        return \"Not a leap year\"\n",
    "\n",
    "if __name__ == \"__main__\":\n",
    "    years = [2000, 1994, 1912, 3002, 1700, 1400]\n",
    "    answers = []\n",
    "    for year in years:\n",
    "        answers.append(leap_year(year))\n",
    "    \n",
    "    print(answers)"
   ]
  }
 ]
}