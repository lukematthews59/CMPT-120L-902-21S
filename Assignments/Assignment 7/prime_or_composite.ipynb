{
 "metadata": {
  "language_info": {
   "codemirror_mode": {
    "name": "ipython",
    "version": 3
   },
   "file_extension": ".py",
   "mimetype": "text/x-python",
   "name": "python",
   "nbconvert_exporter": "python",
   "pygments_lexer": "ipython3",
   "version": "3.9.2-final"
  },
  "orig_nbformat": 2,
  "kernelspec": {
   "name": "python392jvsc74a57bd0ac59ebe37160ed0dfa835113d9b8498d9f09ceb179beaac4002f036b9467c963",
   "display_name": "Python 3.9.2 64-bit"
  }
 },
 "nbformat": 4,
 "nbformat_minor": 2,
 "cells": [
  {
   "cell_type": "code",
   "execution_count": 1,
   "metadata": {},
   "outputs": [
    {
     "output_type": "stream",
     "name": "stdout",
     "text": [
      "['Composite', 'Prime', 'Prime', 'Composite', 'Composite', 'Prime', 'Composite']\n"
     ]
    }
   ],
   "source": [
    "def prime_or_composite(number):\n",
    "    \"\"\"\n",
    "    - Add code in the defined function to figure out whether or not the given number is a prime number or not. \n",
    "    \n",
    "    - A prime number (or a prime) is a natural number greater than 1 that is not a product of two smaller natural numbers. A natural number greater than 1 that is not prime is called a composite number. - Wikipedia\n",
    "\n",
    "    \n",
    "    - Take in a parameter called number and return “Prime” or “Composite”\n",
    "    \"\"\"\n",
    "    # Write your code here.\n",
    "    if number > 1:  \n",
    "        for i in range(2, number):  \n",
    "            if (number % i) == 0:  \n",
    "                return \"Composite\"\n",
    "        else:  \n",
    "            return \"Prime\"\n",
    "    else:  \n",
    "        print(number,\"is not a prime number\")\n",
    " \n",
    "\n",
    "if __name__ == \"__main__\":\n",
    "    numbers = [16, 7, 23, 45, 51, 11, 4]\n",
    "    answers = []\n",
    "    for num in numbers:\n",
    "        answers.append(prime_or_composite(num))\n",
    "    \n",
    "    print(answers)"
   ]
  }
 ]
}